{
 "cells": [
  {
   "cell_type": "markdown",
   "metadata": {
    "id": "8DDb3Mw6Fg7w"
   },
   "source": [
    "<b>The goal of this project is to train a fully connected neural network with few hidden layers to classify images in Fashion MNIST dataset. Zalando is a multinational e-commerce platform selling fashion goods in many European\n",
    "countries. It released a Fashion MNIST dataset – a set of (60,000 train + 10,000 test) images of 10 types of clothes.</b>"
   ]
  },
  {
   "cell_type": "code",
   "execution_count": 1,
   "metadata": {
    "id": "G8FSc1zVkAwy"
   },
   "outputs": [],
   "source": [
    "import tensorflow, os, time\n",
    "from tensorflow import keras\n",
    "from tensorflow.python.client import device_lib\n",
    "device_lib.list_local_devices()\n",
    "from sklearn.metrics import confusion_matrix\n",
    "os.environ[\"KMP_DUPLICATE_LIB_OK\"]=\"TRUE\"\n",
    "%matplotlib inline\n",
    "import matplotlib.pyplot as plt\n",
    "import numpy as np\n",
    "import pandas as pd\n",
    "import io\n",
    "from tensorflow.keras.utils import to_categorical\n",
    "from sklearn.model_selection import train_test_split\n",
    "from keras.models import Sequential\n",
    "from keras.layers import Dense, Flatten, Conv2D, Dropout, MaxPooling2D\n",
    "import seaborn as sn"
   ]
  },
  {
   "cell_type": "code",
   "execution_count": 2,
   "metadata": {
    "colab": {
     "base_uri": "https://localhost:8080/"
    },
    "id": "BBM9fhldF27P",
    "outputId": "3b17caae-941f-4677-ab38-805c0d4000e0"
   },
   "outputs": [
    {
     "name": "stdout",
     "output_type": "stream",
     "text": [
      "Drive already mounted at /content/drive; to attempt to forcibly remount, call drive.mount(\"/content/drive\", force_remount=True).\n"
     ]
    }
   ],
   "source": [
    "from google.colab import drive\n",
    "drive.mount('/content/drive')\n"
   ]
  },
  {
   "cell_type": "code",
   "execution_count": 3,
   "metadata": {
    "id": "RKBlLhHwIDDE"
   },
   "outputs": [],
   "source": [
    "def load_func(dpart):\n",
    "    df = pd.read_csv(f'/content/drive/MyDrive/Colab Notebooks/fashion-mnist_{dpart}.csv')\n",
    "    labels = df.values[:,0]\n",
    "    images = df.values[:,1:]\n",
    "    return labels, images"
   ]
  },
  {
   "cell_type": "code",
   "execution_count": 4,
   "metadata": {
    "id": "vajde67KVn_p"
   },
   "outputs": [],
   "source": [
    "train_labels, train_images = load_func('train')\n",
    "test_labels, test_images = load_func('test')"
   ]
  },
  {
   "cell_type": "markdown",
   "metadata": {
    "id": "GBvwjvDdV2_A"
   },
   "source": [
    "\n",
    "\n",
    "Normalization"
   ]
  },
  {
   "cell_type": "code",
   "execution_count": 5,
   "metadata": {
    "id": "S77u7RdNp6BS"
   },
   "outputs": [],
   "source": [
    "train_images = train_images/np.float32(255)\n",
    "test_images = test_images/np.float32(255)"
   ]
  },
  {
   "cell_type": "code",
   "execution_count": 5,
   "metadata": {
    "id": "C4QO1HXujb60"
   },
   "outputs": [],
   "source": []
  },
  {
   "cell_type": "markdown",
   "metadata": {
    "id": "V5SezJWxWTYZ"
   },
   "source": [
    "Convert 2d array into 1d array"
   ]
  },
  {
   "cell_type": "code",
   "execution_count": 6,
   "metadata": {
    "id": "It52fy0VhWmh"
   },
   "outputs": [],
   "source": [
    "def Convert_2d_1d(ndarray):\n",
    "    dims=ndarray.shape\n",
    "    res = [ndarray[i].flatten() for i in range(dims[0])]\n",
    "    res=np.array(res)\n",
    "    return res\n",
    "train_images_mod = Convert_2d_1d(train_images)\n",
    "test_images_mod  = Convert_2d_1d(test_images)"
   ]
  },
  {
   "cell_type": "markdown",
   "metadata": {
    "id": "HRH60LaMdKL1"
   },
   "source": [
    "Reshape the data. Grayscale image -> data with 1 channel. Labels = categorical."
   ]
  },
  {
   "cell_type": "code",
   "execution_count": 7,
   "metadata": {
    "colab": {
     "base_uri": "https://localhost:8080/"
    },
    "id": "eFFJpPuWd9Ad",
    "outputId": "c4d92a81-67ca-4baf-92bb-5b1afea1bd44"
   },
   "outputs": [
    {
     "name": "stdout",
     "output_type": "stream",
     "text": [
      "(60000, 784)\n",
      "(10000, 784)\n"
     ]
    }
   ],
   "source": [
    "print(train_images.shape)\n",
    "print(test_images.shape)"
   ]
  },
  {
   "cell_type": "code",
   "execution_count": 39,
   "metadata": {
    "id": "hkAzoQPLXnIm"
   },
   "outputs": [],
   "source": [
    "train = train_images_mod.reshape(60000,28,28,1)\n",
    "test = test_images_mod.reshape(10000,28,28,1)\n",
    "label_train = to_categorical(train_labels)\n",
    "label_test  = to_categorical(test_labels)\n"
   ]
  },
  {
   "cell_type": "markdown",
   "metadata": {
    "id": "u3wR4kc4eaqU"
   },
   "source": [
    "Validation set "
   ]
  },
  {
   "cell_type": "code",
   "execution_count": 40,
   "metadata": {
    "id": "1cBMex78eNtP"
   },
   "outputs": [],
   "source": [
    "train, train_val, label_train, label_train_val = train_test_split(train, label_train, test_size = 0.2, random_state = 1)\n"
   ]
  },
  {
   "cell_type": "markdown",
   "metadata": {
    "id": "WhPdz546gFg6"
   },
   "source": [
    "Build a 3-layer model "
   ]
  },
  {
   "cell_type": "code",
   "execution_count": 41,
   "metadata": {
    "id": "fs_fJhIwftGU"
   },
   "outputs": [],
   "source": [
    "model = Sequential()\n",
    "model.add(Flatten())\n",
    "model.add(Dense(128,activation = 'relu'))\n",
    "model.add(Dense(10,activation='softmax'))"
   ]
  },
  {
   "cell_type": "code",
   "execution_count": 42,
   "metadata": {
    "id": "NIhw-9XM050G"
   },
   "outputs": [],
   "source": [
    "model.compile(loss=keras.losses.categorical_crossentropy,\n",
    "                  optimizer='adam',\n",
    "                  metrics=['accuracy'])"
   ]
  },
  {
   "cell_type": "markdown",
   "metadata": {
    "id": "q9Z74rqNhY1u"
   },
   "source": [
    "Fit"
   ]
  },
  {
   "cell_type": "code",
   "execution_count": 43,
   "metadata": {
    "colab": {
     "base_uri": "https://localhost:8080/"
    },
    "id": "7H1eHdfIhfEa",
    "outputId": "d08ee6ce-7908-4ce9-c2fd-041e3e95cff7"
   },
   "outputs": [
    {
     "name": "stdout",
     "output_type": "stream",
     "text": [
      "Epoch 1/50\n",
      "750/750 [==============================] - 3s 4ms/step - loss: 0.5513 - accuracy: 0.8083 - val_loss: 0.4341 - val_accuracy: 0.8508\n",
      "Epoch 2/50\n",
      "750/750 [==============================] - 2s 3ms/step - loss: 0.4073 - accuracy: 0.8564 - val_loss: 0.4178 - val_accuracy: 0.8534\n",
      "Epoch 3/50\n",
      "750/750 [==============================] - 3s 3ms/step - loss: 0.3638 - accuracy: 0.8699 - val_loss: 0.3553 - val_accuracy: 0.8749\n",
      "Epoch 4/50\n",
      "750/750 [==============================] - 3s 3ms/step - loss: 0.3353 - accuracy: 0.8790 - val_loss: 0.3612 - val_accuracy: 0.8712\n",
      "Epoch 5/50\n",
      "750/750 [==============================] - 2s 3ms/step - loss: 0.3171 - accuracy: 0.8851 - val_loss: 0.3581 - val_accuracy: 0.8763\n",
      "Epoch 6/50\n",
      "750/750 [==============================] - 3s 3ms/step - loss: 0.3022 - accuracy: 0.8902 - val_loss: 0.3270 - val_accuracy: 0.8820\n",
      "Epoch 7/50\n",
      "750/750 [==============================] - 2s 3ms/step - loss: 0.2867 - accuracy: 0.8950 - val_loss: 0.3358 - val_accuracy: 0.8802\n",
      "Epoch 8/50\n",
      "750/750 [==============================] - 3s 3ms/step - loss: 0.2782 - accuracy: 0.8979 - val_loss: 0.3298 - val_accuracy: 0.8773\n",
      "Epoch 9/50\n",
      "750/750 [==============================] - 2s 3ms/step - loss: 0.2666 - accuracy: 0.9026 - val_loss: 0.3302 - val_accuracy: 0.8810\n",
      "Epoch 10/50\n",
      "750/750 [==============================] - 3s 3ms/step - loss: 0.2559 - accuracy: 0.9055 - val_loss: 0.3179 - val_accuracy: 0.8888\n",
      "Epoch 11/50\n",
      "750/750 [==============================] - 2s 3ms/step - loss: 0.2486 - accuracy: 0.9082 - val_loss: 0.3091 - val_accuracy: 0.8907\n",
      "Epoch 12/50\n",
      "750/750 [==============================] - 3s 3ms/step - loss: 0.2391 - accuracy: 0.9118 - val_loss: 0.3227 - val_accuracy: 0.8875\n",
      "Epoch 13/50\n",
      "750/750 [==============================] - 3s 3ms/step - loss: 0.2300 - accuracy: 0.9159 - val_loss: 0.3161 - val_accuracy: 0.8899\n",
      "Epoch 14/50\n",
      "750/750 [==============================] - 3s 3ms/step - loss: 0.2246 - accuracy: 0.9167 - val_loss: 0.3292 - val_accuracy: 0.8827\n",
      "Epoch 15/50\n",
      "750/750 [==============================] - 3s 3ms/step - loss: 0.2197 - accuracy: 0.9176 - val_loss: 0.3139 - val_accuracy: 0.8916\n",
      "Epoch 16/50\n",
      "750/750 [==============================] - 3s 3ms/step - loss: 0.2132 - accuracy: 0.9207 - val_loss: 0.3230 - val_accuracy: 0.8888\n",
      "Epoch 17/50\n",
      "750/750 [==============================] - 3s 3ms/step - loss: 0.2042 - accuracy: 0.9245 - val_loss: 0.3449 - val_accuracy: 0.8807\n",
      "Epoch 18/50\n",
      "750/750 [==============================] - 3s 3ms/step - loss: 0.2013 - accuracy: 0.9255 - val_loss: 0.3255 - val_accuracy: 0.8884\n",
      "Epoch 19/50\n",
      "750/750 [==============================] - 2s 3ms/step - loss: 0.1948 - accuracy: 0.9295 - val_loss: 0.3163 - val_accuracy: 0.8928\n",
      "Epoch 20/50\n",
      "750/750 [==============================] - 3s 3ms/step - loss: 0.1907 - accuracy: 0.9290 - val_loss: 0.3237 - val_accuracy: 0.8918\n",
      "Epoch 21/50\n",
      "750/750 [==============================] - 3s 3ms/step - loss: 0.1842 - accuracy: 0.9310 - val_loss: 0.3143 - val_accuracy: 0.8948\n",
      "Epoch 22/50\n",
      "750/750 [==============================] - 3s 3ms/step - loss: 0.1817 - accuracy: 0.9327 - val_loss: 0.3277 - val_accuracy: 0.8927\n",
      "Epoch 23/50\n",
      "750/750 [==============================] - 2s 3ms/step - loss: 0.1756 - accuracy: 0.9352 - val_loss: 0.3349 - val_accuracy: 0.8917\n",
      "Epoch 24/50\n",
      "750/750 [==============================] - 3s 3ms/step - loss: 0.1715 - accuracy: 0.9366 - val_loss: 0.3330 - val_accuracy: 0.8893\n",
      "Epoch 25/50\n",
      "750/750 [==============================] - 3s 3ms/step - loss: 0.1658 - accuracy: 0.9379 - val_loss: 0.3377 - val_accuracy: 0.8919\n",
      "Epoch 26/50\n",
      "750/750 [==============================] - 2s 3ms/step - loss: 0.1636 - accuracy: 0.9393 - val_loss: 0.3414 - val_accuracy: 0.8942\n",
      "Epoch 27/50\n",
      "750/750 [==============================] - 2s 3ms/step - loss: 0.1588 - accuracy: 0.9408 - val_loss: 0.3569 - val_accuracy: 0.8888\n",
      "Epoch 28/50\n",
      "750/750 [==============================] - 3s 3ms/step - loss: 0.1546 - accuracy: 0.9434 - val_loss: 0.3395 - val_accuracy: 0.8934\n",
      "Epoch 29/50\n",
      "750/750 [==============================] - 3s 3ms/step - loss: 0.1518 - accuracy: 0.9436 - val_loss: 0.3421 - val_accuracy: 0.8957\n",
      "Epoch 30/50\n",
      "750/750 [==============================] - 3s 3ms/step - loss: 0.1490 - accuracy: 0.9445 - val_loss: 0.3663 - val_accuracy: 0.8901\n",
      "Epoch 31/50\n",
      "750/750 [==============================] - 2s 3ms/step - loss: 0.1443 - accuracy: 0.9469 - val_loss: 0.3656 - val_accuracy: 0.8905\n",
      "Epoch 32/50\n",
      "750/750 [==============================] - 3s 3ms/step - loss: 0.1408 - accuracy: 0.9469 - val_loss: 0.3536 - val_accuracy: 0.8920\n",
      "Epoch 33/50\n",
      "750/750 [==============================] - 3s 3ms/step - loss: 0.1372 - accuracy: 0.9489 - val_loss: 0.3559 - val_accuracy: 0.8932\n",
      "Epoch 34/50\n",
      "750/750 [==============================] - 3s 3ms/step - loss: 0.1333 - accuracy: 0.9515 - val_loss: 0.3935 - val_accuracy: 0.8906\n",
      "Epoch 35/50\n",
      "750/750 [==============================] - 3s 3ms/step - loss: 0.1350 - accuracy: 0.9492 - val_loss: 0.3619 - val_accuracy: 0.8949\n",
      "Epoch 36/50\n",
      "750/750 [==============================] - 2s 3ms/step - loss: 0.1281 - accuracy: 0.9529 - val_loss: 0.3656 - val_accuracy: 0.8956\n",
      "Epoch 37/50\n",
      "750/750 [==============================] - 3s 3ms/step - loss: 0.1249 - accuracy: 0.9528 - val_loss: 0.4016 - val_accuracy: 0.8866\n",
      "Epoch 38/50\n",
      "750/750 [==============================] - 3s 3ms/step - loss: 0.1219 - accuracy: 0.9545 - val_loss: 0.3754 - val_accuracy: 0.8911\n",
      "Epoch 39/50\n",
      "750/750 [==============================] - 3s 4ms/step - loss: 0.1185 - accuracy: 0.9565 - val_loss: 0.3721 - val_accuracy: 0.8943\n",
      "Epoch 40/50\n",
      "750/750 [==============================] - 3s 3ms/step - loss: 0.1190 - accuracy: 0.9557 - val_loss: 0.3873 - val_accuracy: 0.8913\n",
      "Epoch 41/50\n",
      "750/750 [==============================] - 3s 4ms/step - loss: 0.1133 - accuracy: 0.9588 - val_loss: 0.3978 - val_accuracy: 0.8939\n",
      "Epoch 42/50\n",
      "750/750 [==============================] - 3s 3ms/step - loss: 0.1127 - accuracy: 0.9586 - val_loss: 0.3848 - val_accuracy: 0.8931\n",
      "Epoch 43/50\n",
      "750/750 [==============================] - 3s 3ms/step - loss: 0.1117 - accuracy: 0.9587 - val_loss: 0.4038 - val_accuracy: 0.8912\n",
      "Epoch 44/50\n",
      "750/750 [==============================] - 3s 3ms/step - loss: 0.1053 - accuracy: 0.9605 - val_loss: 0.4299 - val_accuracy: 0.8897\n",
      "Epoch 45/50\n",
      "750/750 [==============================] - 3s 3ms/step - loss: 0.1070 - accuracy: 0.9605 - val_loss: 0.3921 - val_accuracy: 0.8947\n",
      "Epoch 46/50\n",
      "750/750 [==============================] - 3s 3ms/step - loss: 0.1041 - accuracy: 0.9617 - val_loss: 0.4054 - val_accuracy: 0.8919\n",
      "Epoch 47/50\n",
      "750/750 [==============================] - 3s 3ms/step - loss: 0.0994 - accuracy: 0.9640 - val_loss: 0.4321 - val_accuracy: 0.8920\n",
      "Epoch 48/50\n",
      "750/750 [==============================] - 2s 3ms/step - loss: 0.1014 - accuracy: 0.9628 - val_loss: 0.4291 - val_accuracy: 0.8941\n",
      "Epoch 49/50\n",
      "750/750 [==============================] - 3s 3ms/step - loss: 0.0970 - accuracy: 0.9645 - val_loss: 0.4202 - val_accuracy: 0.8949\n",
      "Epoch 50/50\n",
      "750/750 [==============================] - 3s 3ms/step - loss: 0.0951 - accuracy: 0.9654 - val_loss: 0.4222 - val_accuracy: 0.8983\n"
     ]
    }
   ],
   "source": [
    "model_training = model.fit(train,label_train,batch_size=64,epochs=50,verbose=1,\n",
    "                           validation_data=(train_val,label_train_val))"
   ]
  },
  {
   "cell_type": "markdown",
   "metadata": {
    "id": "FPqRBkKjEyLB"
   },
   "source": [
    "Plot accuracies and losses of the model"
   ]
  },
  {
   "cell_type": "code",
   "execution_count": 44,
   "metadata": {
    "colab": {
     "base_uri": "https://localhost:8080/",
     "height": 545
    },
    "id": "awGwE5mphocD",
    "outputId": "8a474646-ea9b-4e7b-eeae-9a9656107383"
   },
   "outputs": [
    {
     "data": {
      "image/png": "[encoded data removed]",
      "text/plain": [
       "<Figure size 432x288 with 1 Axes>"
      ]
     },
     "metadata": {
      "needs_background": "light"
     },
     "output_type": "display_data"
    },
    {
     "data": {
      "image/png": "[encoded data removed]",
      "text/plain": [
       "<Figure size 432x288 with 1 Axes>"
      ]
     },
     "metadata": {
      "needs_background": "light"
     },
     "output_type": "display_data"
    }
   ],
   "source": [
    "model_accuracy = model_training.history['accuracy']\n",
    "model_val_accuracy = model_training.history['val_accuracy']\n",
    "loss = model_training.history['loss'] \n",
    "val_loss  = model_training.history['val_loss']\n",
    "epochs = [i for i in range (1,51)]\n",
    "\n",
    "plt.plot(epochs, model_accuracy, 'b--', label = 'Test accuracy')\n",
    "plt.plot(epochs, model_val_accuracy, 'r', label='Validation accuracy')\n",
    "plt.title('Training and validation accuracy')\n",
    "plt.savefig('Accuracy values')\n",
    "plt.legend()\n",
    "\n",
    "plt.figure()\n",
    "plt.plot(epochs, loss, 'b--', label = 'Training loss')\n",
    "plt.plot(epochs, val_loss, 'r', label = 'Validation loss')\n",
    "plt.title('Training and validation loss')\n",
    "plt.legend()\n",
    "plt.savefig('Loss values')\n",
    "plt.show()"
   ]
  },
  {
   "cell_type": "code",
   "execution_count": 45,
   "metadata": {
    "colab": {
     "base_uri": "https://localhost:8080/"
    },
    "id": "Rb9R88DJGB5x",
    "outputId": "5287959a-1a73-4849-8c59-15e7636954d0"
   },
   "outputs": [
    {
     "name": "stdout",
     "output_type": "stream",
     "text": [
      "313/313 [==============================] - 0s 1ms/step - loss: 0.4098 - accuracy: 0.8964\n",
      "The accuracy of CNN is equal to : 0.896399974822998\n"
     ]
    }
   ],
   "source": [
    "accuracy = model.evaluate(test,label_test,verbose=1)\n",
    "print('The accuracy of CNN is equal to : ' + str(accuracy[1]))"
   ]
  },
  {
   "cell_type": "code",
   "execution_count": 46,
   "metadata": {
    "colab": {
     "base_uri": "https://localhost:8080/"
    },
    "id": "GK8kKJk_mciS",
    "outputId": "03e45682-35af-4da4-e87f-4c2222df16d5"
   },
   "outputs": [
    {
     "name": "stdout",
     "output_type": "stream",
     "text": [
      "Model: \"sequential_3\"\n",
      "_________________________________________________________________\n",
      " Layer (type)                Output Shape              Param #   \n",
      "=================================================================\n",
      " flatten_3 (Flatten)         (None, 784)               0         \n",
      "                                                                 \n",
      " dense_18 (Dense)            (None, 128)               100480    \n",
      "                                                                 \n",
      " dense_19 (Dense)            (None, 10)                1290      \n",
      "                                                                 \n",
      "=================================================================\n",
      "Total params: 101,770\n",
      "Trainable params: 101,770\n",
      "Non-trainable params: 0\n",
      "_________________________________________________________________\n",
      "None\n"
     ]
    }
   ],
   "source": [
    "print(model.summary())"
   ]
  },
  {
   "cell_type": "code",
   "execution_count": 47,
   "metadata": {
    "id": "L8zZH2iRqrPi"
   },
   "outputs": [],
   "source": [
    "predict = np.argmax(model.predict(test), axis=1)\n"
   ]
  },
  {
   "cell_type": "code",
   "execution_count": 48,
   "metadata": {
    "colab": {
     "base_uri": "https://localhost:8080/"
    },
    "id": "Hj6JnEAhWFqt",
    "outputId": "f8aa9703-9e3a-4309-9a6b-7597035b7fba"
   },
   "outputs": [
    {
     "data": {
      "text/plain": [
       "array([[863,   1,  20,  31,   2,   1,  75,   0,   7,   0],\n",
       "       [  3, 986,   1,   7,   0,   0,   2,   0,   1,   0],\n",
       "       [ 22,   0, 827,  13,  78,   1,  57,   0,   2,   0],\n",
       "       [ 23,  18,   6, 912,  22,   2,  16,   0,   1,   0],\n",
       "       [  1,   0,  73,  35, 841,   1,  47,   0,   2,   0],\n",
       "       [  1,   0,   0,   1,   0, 944,   0,  32,   4,  18],\n",
       "       [126,   2,  71,  32,  53,   1, 705,   0,  10,   0],\n",
       "       [  0,   0,   0,   0,   0,  10,   0, 963,   1,  26],\n",
       "       [  6,   1,   5,   6,   1,   3,   6,   3, 968,   1],\n",
       "       [  0,   0,   0,   0,   0,   3,   0,  40,   2, 955]])"
      ]
     },
     "execution_count": 48,
     "metadata": {},
     "output_type": "execute_result"
    }
   ],
   "source": [
    "conf = confusion_matrix(y_true=test_labels, y_pred=predict)\n",
    "conf"
   ]
  },
  {
   "cell_type": "markdown",
   "metadata": {
    "id": "FMxcZzVpR_0J"
   },
   "source": [
    "Build a 6 layer model"
   ]
  },
  {
   "cell_type": "code",
   "execution_count": 16,
   "metadata": {
    "id": "xxyy_yS0tvOt"
   },
   "outputs": [],
   "source": [
    "model = Sequential()\n",
    "model.add(Flatten())\n",
    "model.add(Dense(512,activation = 'relu'))\n",
    "model.add(Dense(512,activation = 'relu'))\n",
    "model.add(Dense(128,activation = 'relu'))\n",
    "model.add(Dense(64,activation = 'relu'))\n",
    "model.add(Dense(10,activation='softmax'))\n"
   ]
  },
  {
   "cell_type": "code",
   "execution_count": 17,
   "metadata": {
    "id": "TqWrRUW5TH3z"
   },
   "outputs": [],
   "source": [
    "model.compile(loss=keras.losses.categorical_crossentropy,\n",
    "                  optimizer='adam',\n",
    "                  metrics=['accuracy'])"
   ]
  },
  {
   "cell_type": "code",
   "execution_count": 18,
   "metadata": {
    "colab": {
     "base_uri": "https://localhost:8080/"
    },
    "id": "zvQ0S19hTV9T",
    "outputId": "c3f1b0fc-9466-4057-d210-edeee6ea8e0b"
   },
   "outputs": [
    {
     "name": "stdout",
     "output_type": "stream",
     "text": [
      "Epoch 1/50\n",
      "750/750 [==============================] - 10s 13ms/step - loss: 0.5122 - accuracy: 0.8160 - val_loss: 0.4097 - val_accuracy: 0.8501\n",
      "Epoch 2/50\n",
      "750/750 [==============================] - 9s 12ms/step - loss: 0.3790 - accuracy: 0.8600 - val_loss: 0.3665 - val_accuracy: 0.8666\n",
      "Epoch 3/50\n",
      "750/750 [==============================] - 10s 13ms/step - loss: 0.3440 - accuracy: 0.8742 - val_loss: 0.3377 - val_accuracy: 0.8763\n",
      "Epoch 4/50\n",
      "750/750 [==============================] - 10s 13ms/step - loss: 0.3190 - accuracy: 0.8813 - val_loss: 0.3466 - val_accuracy: 0.8691\n",
      "Epoch 5/50\n",
      "750/750 [==============================] - 9s 12ms/step - loss: 0.2958 - accuracy: 0.8914 - val_loss: 0.3384 - val_accuracy: 0.8802\n",
      "Epoch 6/50\n",
      "750/750 [==============================] - 9s 12ms/step - loss: 0.2820 - accuracy: 0.8942 - val_loss: 0.3845 - val_accuracy: 0.8626\n",
      "Epoch 7/50\n",
      "750/750 [==============================] - 9s 12ms/step - loss: 0.2672 - accuracy: 0.9007 - val_loss: 0.3306 - val_accuracy: 0.8802\n",
      "Epoch 8/50\n",
      "750/750 [==============================] - 9s 12ms/step - loss: 0.2549 - accuracy: 0.9031 - val_loss: 0.3147 - val_accuracy: 0.8887\n",
      "Epoch 9/50\n",
      "750/750 [==============================] - 9s 12ms/step - loss: 0.2434 - accuracy: 0.9077 - val_loss: 0.3349 - val_accuracy: 0.8813\n",
      "Epoch 10/50\n",
      "750/750 [==============================] - 9s 12ms/step - loss: 0.2353 - accuracy: 0.9109 - val_loss: 0.3805 - val_accuracy: 0.8762\n",
      "Epoch 11/50\n",
      "750/750 [==============================] - 10s 13ms/step - loss: 0.2239 - accuracy: 0.9163 - val_loss: 0.3104 - val_accuracy: 0.8907\n",
      "Epoch 12/50\n",
      "750/750 [==============================] - 10s 13ms/step - loss: 0.2122 - accuracy: 0.9182 - val_loss: 0.3210 - val_accuracy: 0.8931\n",
      "Epoch 13/50\n",
      "750/750 [==============================] - 9s 12ms/step - loss: 0.2086 - accuracy: 0.9209 - val_loss: 0.3193 - val_accuracy: 0.8928\n",
      "Epoch 14/50\n",
      "750/750 [==============================] - 9s 12ms/step - loss: 0.2004 - accuracy: 0.9231 - val_loss: 0.3216 - val_accuracy: 0.8961\n",
      "Epoch 15/50\n",
      "750/750 [==============================] - 9s 12ms/step - loss: 0.1903 - accuracy: 0.9273 - val_loss: 0.3466 - val_accuracy: 0.8863\n",
      "Epoch 16/50\n",
      "750/750 [==============================] - 9s 13ms/step - loss: 0.1870 - accuracy: 0.9297 - val_loss: 0.3258 - val_accuracy: 0.8925\n",
      "Epoch 17/50\n",
      "750/750 [==============================] - 10s 13ms/step - loss: 0.1730 - accuracy: 0.9324 - val_loss: 0.3461 - val_accuracy: 0.8875\n",
      "Epoch 18/50\n",
      "750/750 [==============================] - 9s 12ms/step - loss: 0.1738 - accuracy: 0.9339 - val_loss: 0.3380 - val_accuracy: 0.8914\n",
      "Epoch 19/50\n",
      "750/750 [==============================] - 9s 12ms/step - loss: 0.1631 - accuracy: 0.9362 - val_loss: 0.3354 - val_accuracy: 0.8985\n",
      "Epoch 20/50\n",
      "750/750 [==============================] - 9s 12ms/step - loss: 0.1601 - accuracy: 0.9376 - val_loss: 0.3518 - val_accuracy: 0.8947\n",
      "Epoch 21/50\n",
      "750/750 [==============================] - 10s 13ms/step - loss: 0.1509 - accuracy: 0.9429 - val_loss: 0.3833 - val_accuracy: 0.8902\n",
      "Epoch 22/50\n",
      "750/750 [==============================] - 9s 12ms/step - loss: 0.1511 - accuracy: 0.9410 - val_loss: 0.3456 - val_accuracy: 0.8967\n",
      "Epoch 23/50\n",
      "750/750 [==============================] - 9s 12ms/step - loss: 0.1435 - accuracy: 0.9440 - val_loss: 0.3830 - val_accuracy: 0.8956\n",
      "Epoch 24/50\n",
      "750/750 [==============================] - 9s 12ms/step - loss: 0.1409 - accuracy: 0.9445 - val_loss: 0.3800 - val_accuracy: 0.8961\n",
      "Epoch 25/50\n",
      "750/750 [==============================] - 9s 12ms/step - loss: 0.1324 - accuracy: 0.9483 - val_loss: 0.4209 - val_accuracy: 0.8951\n",
      "Epoch 26/50\n",
      "750/750 [==============================] - 9s 12ms/step - loss: 0.1313 - accuracy: 0.9491 - val_loss: 0.4074 - val_accuracy: 0.8915\n",
      "Epoch 27/50\n",
      "750/750 [==============================] - 9s 12ms/step - loss: 0.1270 - accuracy: 0.9503 - val_loss: 0.4277 - val_accuracy: 0.8947\n",
      "Epoch 28/50\n",
      "750/750 [==============================] - 9s 13ms/step - loss: 0.1245 - accuracy: 0.9519 - val_loss: 0.4086 - val_accuracy: 0.8954\n",
      "Epoch 29/50\n",
      "750/750 [==============================] - 9s 12ms/step - loss: 0.1205 - accuracy: 0.9534 - val_loss: 0.4322 - val_accuracy: 0.8996\n",
      "Epoch 30/50\n",
      "750/750 [==============================] - 9s 12ms/step - loss: 0.1177 - accuracy: 0.9559 - val_loss: 0.4197 - val_accuracy: 0.8997\n",
      "Epoch 31/50\n",
      "750/750 [==============================] - 9s 12ms/step - loss: 0.1113 - accuracy: 0.9576 - val_loss: 0.4127 - val_accuracy: 0.9014\n",
      "Epoch 32/50\n",
      "750/750 [==============================] - 9s 13ms/step - loss: 0.1164 - accuracy: 0.9553 - val_loss: 0.4623 - val_accuracy: 0.8982\n",
      "Epoch 33/50\n",
      "750/750 [==============================] - 9s 12ms/step - loss: 0.1024 - accuracy: 0.9593 - val_loss: 0.4505 - val_accuracy: 0.8963\n",
      "Epoch 34/50\n",
      "750/750 [==============================] - 9s 12ms/step - loss: 0.1011 - accuracy: 0.9611 - val_loss: 0.4288 - val_accuracy: 0.8932\n",
      "Epoch 35/50\n",
      "750/750 [==============================] - 9s 13ms/step - loss: 0.1019 - accuracy: 0.9605 - val_loss: 0.4622 - val_accuracy: 0.8933\n",
      "Epoch 36/50\n",
      "750/750 [==============================] - 9s 12ms/step - loss: 0.1001 - accuracy: 0.9609 - val_loss: 0.4433 - val_accuracy: 0.8903\n",
      "Epoch 37/50\n",
      "750/750 [==============================] - 9s 13ms/step - loss: 0.0918 - accuracy: 0.9644 - val_loss: 0.4901 - val_accuracy: 0.8928\n",
      "Epoch 38/50\n",
      "750/750 [==============================] - 9s 12ms/step - loss: 0.0950 - accuracy: 0.9637 - val_loss: 0.4668 - val_accuracy: 0.8913\n",
      "Epoch 39/50\n",
      "750/750 [==============================] - 9s 12ms/step - loss: 0.0861 - accuracy: 0.9663 - val_loss: 0.4919 - val_accuracy: 0.8979\n",
      "Epoch 40/50\n",
      "750/750 [==============================] - 9s 12ms/step - loss: 0.0903 - accuracy: 0.9653 - val_loss: 0.4773 - val_accuracy: 0.8951\n",
      "Epoch 41/50\n",
      "750/750 [==============================] - 9s 12ms/step - loss: 0.0912 - accuracy: 0.9649 - val_loss: 0.4550 - val_accuracy: 0.8981\n",
      "Epoch 42/50\n",
      "750/750 [==============================] - 9s 12ms/step - loss: 0.0896 - accuracy: 0.9654 - val_loss: 0.4815 - val_accuracy: 0.8954\n",
      "Epoch 43/50\n",
      "750/750 [==============================] - 9s 12ms/step - loss: 0.0813 - accuracy: 0.9688 - val_loss: 0.4476 - val_accuracy: 0.8997\n",
      "Epoch 44/50\n",
      "750/750 [==============================] - 9s 12ms/step - loss: 0.0778 - accuracy: 0.9707 - val_loss: 0.5061 - val_accuracy: 0.8965\n",
      "Epoch 45/50\n",
      "750/750 [==============================] - 9s 12ms/step - loss: 0.0805 - accuracy: 0.9685 - val_loss: 0.5637 - val_accuracy: 0.8966\n",
      "Epoch 46/50\n",
      "750/750 [==============================] - 9s 12ms/step - loss: 0.0770 - accuracy: 0.9699 - val_loss: 0.5892 - val_accuracy: 0.8971\n",
      "Epoch 47/50\n",
      "750/750 [==============================] - 9s 12ms/step - loss: 0.0779 - accuracy: 0.9714 - val_loss: 0.5293 - val_accuracy: 0.8976\n",
      "Epoch 48/50\n",
      "750/750 [==============================] - 9s 12ms/step - loss: 0.0706 - accuracy: 0.9731 - val_loss: 0.5409 - val_accuracy: 0.8938\n",
      "Epoch 49/50\n",
      "750/750 [==============================] - 9s 12ms/step - loss: 0.0698 - accuracy: 0.9735 - val_loss: 0.5513 - val_accuracy: 0.9003\n",
      "Epoch 50/50\n",
      "750/750 [==============================] - 11s 15ms/step - loss: 0.0730 - accuracy: 0.9727 - val_loss: 0.5810 - val_accuracy: 0.8959\n"
     ]
    }
   ],
   "source": [
    "model_training = model.fit(train,label_train,batch_size=64,epochs=50,verbose=1,\n",
    "                           validation_data=(train_val,label_train_val))"
   ]
  },
  {
   "cell_type": "code",
   "execution_count": 19,
   "metadata": {
    "colab": {
     "base_uri": "https://localhost:8080/",
     "height": 545
    },
    "id": "Lgx7scLEU1OS",
    "outputId": "7d7a74ab-91fb-4dce-bf0e-9dbc0326909b"
   },
   "outputs": [
    {
     "data": {
      "image/png": "[encoded data removed]",
      "text/plain": [
       "<Figure size 432x288 with 1 Axes>"
      ]
     },
     "metadata": {
      "needs_background": "light"
     },
     "output_type": "display_data"
    },
    {
     "data": {
      "image/png": "[encoded data removed]",
      "text/plain": [
       "<Figure size 432x288 with 1 Axes>"
      ]
     },
     "metadata": {
      "needs_background": "light"
     },
     "output_type": "display_data"
    }
   ],
   "source": [
    "model_accuracy = model_training.history['accuracy']\n",
    "model_val_accuracy = model_training.history['val_accuracy']\n",
    "loss = model_training.history['loss'] \n",
    "val_loss  = model_training.history['val_loss']\n",
    "epochs = [i for i in range (1,51)]\n",
    "\n",
    "plt.plot(epochs, model_accuracy, 'b--', label = 'Test accuracy')\n",
    "plt.plot(epochs, model_val_accuracy, 'r', label='Validation accuracy')\n",
    "plt.title('Training and validation accuracy')\n",
    "plt.savefig('Accuracy values')\n",
    "plt.legend()\n",
    "\n",
    "plt.figure()\n",
    "plt.plot(epochs, loss, 'b--', label = 'Training loss')\n",
    "plt.plot(epochs, val_loss, 'r', label = 'Validation loss')\n",
    "plt.title('Training and validation loss')\n",
    "plt.legend()\n",
    "plt.savefig('Loss values')\n",
    "plt.show()"
   ]
  },
  {
   "cell_type": "code",
   "execution_count": 20,
   "metadata": {
    "colab": {
     "base_uri": "https://localhost:8080/"
    },
    "id": "FVBT_g_bVgzD",
    "outputId": "4c5b3fdc-d844-4c11-e6e0-a3a3f52031f3"
   },
   "outputs": [
    {
     "name": "stdout",
     "output_type": "stream",
     "text": [
      "313/313 [==============================] - 1s 4ms/step - loss: 0.6127 - accuracy: 0.8952\n",
      "The accuracy of CNN is equal to : 0.8952000141143799\n"
     ]
    }
   ],
   "source": [
    "accuracy = model.evaluate(test,label_test,verbose=1)\n",
    "print('The accuracy of CNN is equal to : ' + str(accuracy[1]))"
   ]
  },
  {
   "cell_type": "code",
   "execution_count": 21,
   "metadata": {
    "colab": {
     "base_uri": "https://localhost:8080/"
    },
    "id": "PUZR-SZaVnrN",
    "outputId": "beab51a1-49bc-4df5-f8c1-75bae044c638"
   },
   "outputs": [
    {
     "name": "stdout",
     "output_type": "stream",
     "text": [
      "Model: \"sequential_1\"\n",
      "_________________________________________________________________\n",
      " Layer (type)                Output Shape              Param #   \n",
      "=================================================================\n",
      " flatten_1 (Flatten)         (None, 784)               0         \n",
      "                                                                 \n",
      " dense_2 (Dense)             (None, 512)               401920    \n",
      "                                                                 \n",
      " dense_3 (Dense)             (None, 512)               262656    \n",
      "                                                                 \n",
      " dense_4 (Dense)             (None, 128)               65664     \n",
      "                                                                 \n",
      " dense_5 (Dense)             (None, 64)                8256      \n",
      "                                                                 \n",
      " dense_6 (Dense)             (None, 10)                650       \n",
      "                                                                 \n",
      "=================================================================\n",
      "Total params: 739,146\n",
      "Trainable params: 739,146\n",
      "Non-trainable params: 0\n",
      "_________________________________________________________________\n",
      "None\n"
     ]
    }
   ],
   "source": [
    "print(model.summary())"
   ]
  },
  {
   "cell_type": "markdown",
   "metadata": {
    "id": "h0YGUZdYUGUk"
   },
   "source": [
    "Build a 12 layer model"
   ]
  },
  {
   "cell_type": "code",
   "execution_count": 22,
   "metadata": {
    "id": "jNYMsuPuTdyt"
   },
   "outputs": [],
   "source": [
    "model = Sequential()\n",
    "model.add(Flatten())\n",
    "model.add(Dense(512,activation = 'relu'))\n",
    "model.add(Dense(512,activation = 'relu'))\n",
    "model.add(Dense(512,activation = 'relu'))\n",
    "model.add(Dense(256,activation = 'relu'))\n",
    "model.add(Dense(256,activation = 'relu'))\n",
    "model.add(Dense(256,activation = 'relu'))\n",
    "model.add(Dense(64,activation = 'relu'))\n",
    "model.add(Dense(64,activation = 'relu'))\n",
    "model.add(Dense(32,activation = 'relu'))\n",
    "model.add(Dense(32,activation = 'relu'))\n",
    "model.add(Dense(10,activation='softmax'))\n"
   ]
  },
  {
   "cell_type": "code",
   "execution_count": 23,
   "metadata": {
    "id": "1zScnPdmUYiN"
   },
   "outputs": [],
   "source": [
    "model.compile(loss=keras.losses.categorical_crossentropy,\n",
    "                  optimizer='adam',\n",
    "                  metrics=['accuracy'])"
   ]
  },
  {
   "cell_type": "code",
   "execution_count": 24,
   "metadata": {
    "colab": {
     "base_uri": "https://localhost:8080/"
    },
    "id": "gRu3rSp_UdSe",
    "outputId": "6aba9152-4f66-46d5-954f-fd5001471ce7"
   },
   "outputs": [
    {
     "name": "stdout",
     "output_type": "stream",
     "text": [
      "Epoch 1/50\n",
      "750/750 [==============================] - 17s 21ms/step - loss: 0.6332 - accuracy: 0.7707 - val_loss: 0.4780 - val_accuracy: 0.8286\n",
      "Epoch 2/50\n",
      "750/750 [==============================] - 15s 20ms/step - loss: 0.4283 - accuracy: 0.8471 - val_loss: 0.3917 - val_accuracy: 0.8588\n",
      "Epoch 3/50\n",
      "750/750 [==============================] - 15s 20ms/step - loss: 0.3807 - accuracy: 0.8644 - val_loss: 0.3886 - val_accuracy: 0.8581\n",
      "Epoch 4/50\n",
      "750/750 [==============================] - 15s 20ms/step - loss: 0.3566 - accuracy: 0.8731 - val_loss: 0.3541 - val_accuracy: 0.8707\n",
      "Epoch 5/50\n",
      "750/750 [==============================] - 15s 20ms/step - loss: 0.3377 - accuracy: 0.8798 - val_loss: 0.3819 - val_accuracy: 0.8680\n",
      "Epoch 6/50\n",
      "750/750 [==============================] - 15s 20ms/step - loss: 0.3212 - accuracy: 0.8838 - val_loss: 0.3643 - val_accuracy: 0.8776\n",
      "Epoch 7/50\n",
      "750/750 [==============================] - 15s 20ms/step - loss: 0.3106 - accuracy: 0.8886 - val_loss: 0.3312 - val_accuracy: 0.8823\n",
      "Epoch 8/50\n",
      "750/750 [==============================] - 15s 20ms/step - loss: 0.2937 - accuracy: 0.8963 - val_loss: 0.3229 - val_accuracy: 0.8886\n",
      "Epoch 9/50\n",
      "750/750 [==============================] - 15s 20ms/step - loss: 0.2836 - accuracy: 0.8978 - val_loss: 0.3660 - val_accuracy: 0.8699\n",
      "Epoch 10/50\n",
      "750/750 [==============================] - 15s 20ms/step - loss: 0.2725 - accuracy: 0.9002 - val_loss: 0.3322 - val_accuracy: 0.8922\n",
      "Epoch 11/50\n",
      "750/750 [==============================] - 16s 21ms/step - loss: 0.2689 - accuracy: 0.9022 - val_loss: 0.3518 - val_accuracy: 0.8866\n",
      "Epoch 12/50\n",
      "750/750 [==============================] - 15s 20ms/step - loss: 0.2567 - accuracy: 0.9061 - val_loss: 0.3427 - val_accuracy: 0.8751\n",
      "Epoch 13/50\n",
      "750/750 [==============================] - 15s 20ms/step - loss: 0.2539 - accuracy: 0.9072 - val_loss: 0.3379 - val_accuracy: 0.8876\n",
      "Epoch 14/50\n",
      "750/750 [==============================] - 15s 20ms/step - loss: 0.2421 - accuracy: 0.9117 - val_loss: 0.3948 - val_accuracy: 0.8774\n",
      "Epoch 15/50\n",
      "750/750 [==============================] - 15s 20ms/step - loss: 0.2364 - accuracy: 0.9139 - val_loss: 0.3151 - val_accuracy: 0.8869\n",
      "Epoch 16/50\n",
      "750/750 [==============================] - 15s 20ms/step - loss: 0.2294 - accuracy: 0.9163 - val_loss: 0.3431 - val_accuracy: 0.8873\n",
      "Epoch 17/50\n",
      "750/750 [==============================] - 15s 20ms/step - loss: 0.2272 - accuracy: 0.9173 - val_loss: 0.3657 - val_accuracy: 0.8907\n",
      "Epoch 18/50\n",
      "750/750 [==============================] - 15s 20ms/step - loss: 0.2190 - accuracy: 0.9200 - val_loss: 0.3977 - val_accuracy: 0.8771\n",
      "Epoch 19/50\n",
      "750/750 [==============================] - 16s 21ms/step - loss: 0.2163 - accuracy: 0.9207 - val_loss: 0.3940 - val_accuracy: 0.8707\n",
      "Epoch 20/50\n",
      "750/750 [==============================] - 15s 20ms/step - loss: 0.2025 - accuracy: 0.9248 - val_loss: 0.3427 - val_accuracy: 0.8887\n",
      "Epoch 21/50\n",
      "750/750 [==============================] - 15s 20ms/step - loss: 0.2039 - accuracy: 0.9245 - val_loss: 0.3504 - val_accuracy: 0.8842\n",
      "Epoch 22/50\n",
      "750/750 [==============================] - 15s 20ms/step - loss: 0.1965 - accuracy: 0.9259 - val_loss: 0.3630 - val_accuracy: 0.8860\n",
      "Epoch 23/50\n",
      "750/750 [==============================] - 15s 20ms/step - loss: 0.1901 - accuracy: 0.9298 - val_loss: 0.3460 - val_accuracy: 0.8974\n",
      "Epoch 24/50\n",
      "750/750 [==============================] - 15s 20ms/step - loss: 0.1860 - accuracy: 0.9320 - val_loss: 0.3567 - val_accuracy: 0.8921\n",
      "Epoch 25/50\n",
      "750/750 [==============================] - 15s 20ms/step - loss: 0.1917 - accuracy: 0.9298 - val_loss: 0.3651 - val_accuracy: 0.8953\n",
      "Epoch 26/50\n",
      "750/750 [==============================] - 15s 20ms/step - loss: 0.1708 - accuracy: 0.9369 - val_loss: 0.3841 - val_accuracy: 0.8908\n",
      "Epoch 27/50\n",
      "750/750 [==============================] - 15s 20ms/step - loss: 0.1755 - accuracy: 0.9364 - val_loss: 0.3721 - val_accuracy: 0.8966\n",
      "Epoch 28/50\n",
      "750/750 [==============================] - 15s 20ms/step - loss: 0.1671 - accuracy: 0.9370 - val_loss: 0.3909 - val_accuracy: 0.8946\n",
      "Epoch 29/50\n",
      "750/750 [==============================] - 15s 20ms/step - loss: 0.1663 - accuracy: 0.9385 - val_loss: 0.4086 - val_accuracy: 0.8881\n",
      "Epoch 30/50\n",
      "750/750 [==============================] - 15s 20ms/step - loss: 0.1633 - accuracy: 0.9396 - val_loss: 0.3547 - val_accuracy: 0.8944\n",
      "Epoch 31/50\n",
      "750/750 [==============================] - 15s 20ms/step - loss: 0.1587 - accuracy: 0.9422 - val_loss: 0.3883 - val_accuracy: 0.8969\n",
      "Epoch 32/50\n",
      "750/750 [==============================] - 15s 20ms/step - loss: 0.1542 - accuracy: 0.9442 - val_loss: 0.3723 - val_accuracy: 0.8966\n",
      "Epoch 33/50\n",
      "750/750 [==============================] - 15s 20ms/step - loss: 0.1498 - accuracy: 0.9440 - val_loss: 0.4181 - val_accuracy: 0.8972\n",
      "Epoch 34/50\n",
      "750/750 [==============================] - 15s 20ms/step - loss: 0.1520 - accuracy: 0.9438 - val_loss: 0.4275 - val_accuracy: 0.8938\n",
      "Epoch 35/50\n",
      "750/750 [==============================] - 15s 20ms/step - loss: 0.1535 - accuracy: 0.9439 - val_loss: 0.3915 - val_accuracy: 0.8966\n",
      "Epoch 36/50\n",
      "750/750 [==============================] - 15s 20ms/step - loss: 0.1461 - accuracy: 0.9472 - val_loss: 0.3897 - val_accuracy: 0.8969\n",
      "Epoch 37/50\n",
      "750/750 [==============================] - 15s 20ms/step - loss: 0.1407 - accuracy: 0.9481 - val_loss: 0.4923 - val_accuracy: 0.8908\n",
      "Epoch 38/50\n",
      "750/750 [==============================] - 15s 20ms/step - loss: 0.1397 - accuracy: 0.9486 - val_loss: 0.4176 - val_accuracy: 0.8850\n",
      "Epoch 39/50\n",
      "750/750 [==============================] - 15s 20ms/step - loss: 0.1290 - accuracy: 0.9521 - val_loss: 0.5085 - val_accuracy: 0.8926\n",
      "Epoch 40/50\n",
      "750/750 [==============================] - 15s 20ms/step - loss: 0.1349 - accuracy: 0.9513 - val_loss: 0.3869 - val_accuracy: 0.8885\n",
      "Epoch 41/50\n",
      "750/750 [==============================] - 15s 20ms/step - loss: 0.1388 - accuracy: 0.9495 - val_loss: 0.3996 - val_accuracy: 0.8971\n",
      "Epoch 42/50\n",
      "750/750 [==============================] - 15s 20ms/step - loss: 0.1292 - accuracy: 0.9528 - val_loss: 0.3936 - val_accuracy: 0.8911\n",
      "Epoch 43/50\n",
      "750/750 [==============================] - 15s 20ms/step - loss: 0.1212 - accuracy: 0.9545 - val_loss: 0.4152 - val_accuracy: 0.9014\n",
      "Epoch 44/50\n",
      "750/750 [==============================] - 15s 20ms/step - loss: 0.1241 - accuracy: 0.9543 - val_loss: 0.4032 - val_accuracy: 0.9000\n",
      "Epoch 45/50\n",
      "750/750 [==============================] - 15s 20ms/step - loss: 0.1232 - accuracy: 0.9557 - val_loss: 0.3880 - val_accuracy: 0.8955\n",
      "Epoch 46/50\n",
      "750/750 [==============================] - 15s 20ms/step - loss: 0.1146 - accuracy: 0.9586 - val_loss: 0.4744 - val_accuracy: 0.8891\n",
      "Epoch 47/50\n",
      "750/750 [==============================] - 15s 20ms/step - loss: 0.1196 - accuracy: 0.9568 - val_loss: 0.4833 - val_accuracy: 0.8985\n",
      "Epoch 48/50\n",
      "750/750 [==============================] - 15s 20ms/step - loss: 0.1103 - accuracy: 0.9585 - val_loss: 0.5024 - val_accuracy: 0.8982\n",
      "Epoch 49/50\n",
      "750/750 [==============================] - 15s 20ms/step - loss: 0.1133 - accuracy: 0.9586 - val_loss: 0.5247 - val_accuracy: 0.8974\n",
      "Epoch 50/50\n",
      "750/750 [==============================] - 15s 20ms/step - loss: 0.1137 - accuracy: 0.9593 - val_loss: 0.4572 - val_accuracy: 0.9008\n"
     ]
    }
   ],
   "source": [
    "model_training = model.fit(train,label_train,batch_size=64,epochs=50,verbose=1,\n",
    "                           validation_data=(train_val,label_train_val))\n"
   ]
  },
  {
   "cell_type": "code",
   "execution_count": 25,
   "metadata": {
    "colab": {
     "base_uri": "https://localhost:8080/",
     "height": 545
    },
    "id": "DT5ZdFjMUgOs",
    "outputId": "78dddb8f-e590-4d43-e228-4426d7c4cafb"
   },
   "outputs": [
    {
     "data": {
      "image/png": "[encoded data removed]",
      "text/plain": [
       "<Figure size 432x288 with 1 Axes>"
      ]
     },
     "metadata": {
      "needs_background": "light"
     },
     "output_type": "display_data"
    },
    {
     "data": {
      "image/png": "[encoded data removed]",
      "text/plain": [
       "<Figure size 432x288 with 1 Axes>"
      ]
     },
     "metadata": {
      "needs_background": "light"
     },
     "output_type": "display_data"
    }
   ],
   "source": [
    "model_accuracy = model_training.history['accuracy']\n",
    "model_val_accuracy = model_training.history['val_accuracy']\n",
    "loss = model_training.history['loss'] \n",
    "val_loss  = model_training.history['val_loss']\n",
    "epochs = [i for i in range (1,51)]\n",
    "\n",
    "plt.plot(epochs, model_accuracy, 'b--', label = 'Test accuracy')\n",
    "plt.plot(epochs, model_val_accuracy, 'r', label='Validation accuracy')\n",
    "plt.title('Training and validation accuracy')\n",
    "plt.savefig('Accuracy values')\n",
    "plt.legend()\n",
    "\n",
    "plt.figure()\n",
    "plt.plot(epochs, loss, 'b--', label = 'Training loss')\n",
    "plt.plot(epochs, val_loss, 'r', label = 'Validation loss')\n",
    "plt.title('Training and validation loss')\n",
    "plt.legend()\n",
    "plt.savefig('Loss values')\n",
    "plt.show()"
   ]
  },
  {
   "cell_type": "code",
   "execution_count": 26,
   "metadata": {
    "colab": {
     "base_uri": "https://localhost:8080/"
    },
    "id": "Mm2sdgv3UyZX",
    "outputId": "8900186a-4c76-4925-b940-770e98447f04"
   },
   "outputs": [
    {
     "name": "stdout",
     "output_type": "stream",
     "text": [
      "313/313 [==============================] - 2s 5ms/step - loss: 0.4861 - accuracy: 0.8951\n",
      "The accuracy of CNN is equal to : 0.8950999975204468\n"
     ]
    }
   ],
   "source": [
    "accuracy = model.evaluate(test,label_test,verbose=1)\n",
    "print('The accuracy of CNN is equal to : ' + str(accuracy[1]))"
   ]
  },
  {
   "cell_type": "code",
   "execution_count": 27,
   "metadata": {
    "colab": {
     "base_uri": "https://localhost:8080/"
    },
    "id": "iUE5Qg_lWDEQ",
    "outputId": "fd828044-921f-4dd8-d8be-77e5aff2cee3"
   },
   "outputs": [
    {
     "name": "stdout",
     "output_type": "stream",
     "text": [
      "Model: \"sequential_2\"\n",
      "_________________________________________________________________\n",
      " Layer (type)                Output Shape              Param #   \n",
      "=================================================================\n",
      " flatten_2 (Flatten)         (None, 784)               0         \n",
      "                                                                 \n",
      " dense_7 (Dense)             (None, 512)               401920    \n",
      "                                                                 \n",
      " dense_8 (Dense)             (None, 512)               262656    \n",
      "                                                                 \n",
      " dense_9 (Dense)             (None, 512)               262656    \n",
      "                                                                 \n",
      " dense_10 (Dense)            (None, 256)               131328    \n",
      "                                                                 \n",
      " dense_11 (Dense)            (None, 256)               65792     \n",
      "                                                                 \n",
      " dense_12 (Dense)            (None, 256)               65792     \n",
      "                                                                 \n",
      " dense_13 (Dense)            (None, 64)                16448     \n",
      "                                                                 \n",
      " dense_14 (Dense)            (None, 64)                4160      \n",
      "                                                                 \n",
      " dense_15 (Dense)            (None, 32)                2080      \n",
      "                                                                 \n",
      " dense_16 (Dense)            (None, 32)                1056      \n",
      "                                                                 \n",
      " dense_17 (Dense)            (None, 10)                330       \n",
      "                                                                 \n",
      "=================================================================\n",
      "Total params: 1,214,218\n",
      "Trainable params: 1,214,218\n",
      "Non-trainable params: 0\n",
      "_________________________________________________________________\n",
      "None\n"
     ]
    }
   ],
   "source": [
    "print(model.summary())"
   ]
  },
  {
   "cell_type": "markdown",
   "metadata": {
    "id": "aLB3pjuVi4nS"
   },
   "source": [
    "For all 3 models, loss is decreasing to 0 as epochs increase wuth the training data, and the accuracy is increasing to 1, which are the ‘perfect score’. This means an overfitting of the models. The validation model shows that the loss function is less than 0.50 for NN3 and is passing 0.5 for NN6 and NN12. It also seems as if the slop stabilizes around 0.4-0.5 for NN12 but not for the other models. The accuracy slope stabilizes between 0.88 and 0.90 for all 3 models. "
   ]
  },
  {
   "cell_type": "markdown",
   "metadata": {
    "id": "h5WB9XNmnPuk"
   },
   "source": [
    "It also seems like NN3 test performs better - having the lowest loss score and same acuuracy as NN12. The confusion matrix is shown above (under NN3 model)."
   ]
  },
  {
   "cell_type": "code",
   "execution_count": 32,
   "metadata": {
    "id": "MPQrTQm1oX0J"
   },
   "outputs": [],
   "source": []
  },
  {
   "cell_type": "code",
   "execution_count": null,
   "metadata": {
    "id": "0vCXsP02plDd"
   },
   "outputs": [],
   "source": []
  }
 ],
 "metadata": {
  "colab": {
   "collapsed_sections": [],
   "name": "Q1_12011800.ipynb",
   "provenance": []
  },
  "kernelspec": {
   "display_name": "Python 3 (ipykernel)",
   "language": "python",
   "name": "python3"
  },
  "language_info": {
   "codemirror_mode": {
    "name": "ipython",
    "version": 3
   },
   "file_extension": ".py",
   "mimetype": "text/x-python",
   "name": "python",
   "nbconvert_exporter": "python",
   "pygments_lexer": "ipython3",
   "version": "3.10.0"
  }
 },
 "nbformat": 4,
 "nbformat_minor": 1
}
